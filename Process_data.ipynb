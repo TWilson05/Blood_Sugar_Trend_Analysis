{
 "cells": [
  {
   "cell_type": "markdown",
   "metadata": {},
   "source": [
    "# Process the Health Data and Blood Sugar Data"
   ]
  },
  {
   "cell_type": "markdown",
   "metadata": {},
   "source": [
    "## Extract Apple Health Data and Export to CSVs\n",
    "* Command Line Tool to Process apple health's export.xml file \n",
    "* Create multiple CSV files for each data type. \n",
    "* Original Source: https://github.com/tdda/applehealthdata\n",
    "### Setup and Usage\n",
    "* Export your data from Apple Health App on your phone. \n",
    "* Unzip export.zip into the DATA directory.\n",
    "* Inside your directory there should be a directory and file here: /DATA/export/apple_health_export/export.xml\n",
    "* Run the following command"
   ]
  },
  {
   "cell_type": "code",
   "execution_count": null,
   "metadata": {},
   "outputs": [],
   "source": [
    "%run -i apple-health-data-parser.py DATA/export/apple_health_export/export.xml"
   ]
  },
  {
   "cell_type": "markdown",
   "metadata": {},
   "source": [
    "## Process Active Calorie Data"
   ]
  },
  {
   "cell_type": "code",
   "execution_count": 2,
   "metadata": {},
   "outputs": [],
   "source": [
    "import numpy as np\n",
    "import pandas as pd\n",
    "import matplotlib.pyplot as plt"
   ]
  },
  {
   "cell_type": "code",
   "execution_count": 3,
   "metadata": {},
   "outputs": [],
   "source": [
    "calories = pd.read_csv(r'DATA\\export\\apple_health_export\\ActiveEnergyBurned.csv')"
   ]
  },
  {
   "cell_type": "code",
   "execution_count": 4,
   "metadata": {},
   "outputs": [
    {
     "data": {
      "text/html": [
       "<div>\n",
       "<style scoped>\n",
       "    .dataframe tbody tr th:only-of-type {\n",
       "        vertical-align: middle;\n",
       "    }\n",
       "\n",
       "    .dataframe tbody tr th {\n",
       "        vertical-align: top;\n",
       "    }\n",
       "\n",
       "    .dataframe thead th {\n",
       "        text-align: right;\n",
       "    }\n",
       "</style>\n",
       "<table border=\"1\" class=\"dataframe\">\n",
       "  <thead>\n",
       "    <tr style=\"text-align: right;\">\n",
       "      <th></th>\n",
       "      <th>sourceName</th>\n",
       "      <th>sourceVersion</th>\n",
       "      <th>device</th>\n",
       "      <th>type</th>\n",
       "      <th>unit</th>\n",
       "      <th>creationDate</th>\n",
       "      <th>startDate</th>\n",
       "      <th>endDate</th>\n",
       "      <th>value</th>\n",
       "    </tr>\n",
       "  </thead>\n",
       "  <tbody>\n",
       "    <tr>\n",
       "      <th>1453638</th>\n",
       "      <td>Tyler’s Apple Watch</td>\n",
       "      <td>10.5</td>\n",
       "      <td>&lt;&lt;HKDevice: 0x303312620&gt;, name:Apple Watch, ma...</td>\n",
       "      <td>ActiveEnergyBurned</td>\n",
       "      <td>Cal</td>\n",
       "      <td>2024-06-12 11:35:26 -0700</td>\n",
       "      <td>2024-06-12 11:25:00 -0700</td>\n",
       "      <td>2024-06-12 11:34:51 -0700</td>\n",
       "      <td>2.430</td>\n",
       "    </tr>\n",
       "    <tr>\n",
       "      <th>1453639</th>\n",
       "      <td>Tyler’s Apple Watch</td>\n",
       "      <td>10.5</td>\n",
       "      <td>&lt;&lt;HKDevice: 0x303312620&gt;, name:Apple Watch, ma...</td>\n",
       "      <td>ActiveEnergyBurned</td>\n",
       "      <td>Cal</td>\n",
       "      <td>2024-06-12 11:47:09 -0700</td>\n",
       "      <td>2024-06-12 11:35:01 -0700</td>\n",
       "      <td>2024-06-12 11:35:11 -0700</td>\n",
       "      <td>0.079</td>\n",
       "    </tr>\n",
       "    <tr>\n",
       "      <th>1453640</th>\n",
       "      <td>Tyler’s Apple Watch</td>\n",
       "      <td>10.5</td>\n",
       "      <td>&lt;&lt;HKDevice: 0x303312620&gt;, name:Apple Watch, ma...</td>\n",
       "      <td>ActiveEnergyBurned</td>\n",
       "      <td>Cal</td>\n",
       "      <td>2024-06-12 11:48:31 -0700</td>\n",
       "      <td>2024-06-12 11:38:04 -0700</td>\n",
       "      <td>2024-06-12 11:47:35 -0700</td>\n",
       "      <td>1.322</td>\n",
       "    </tr>\n",
       "    <tr>\n",
       "      <th>1453641</th>\n",
       "      <td>Tyler’s Apple Watch</td>\n",
       "      <td>10.5</td>\n",
       "      <td>&lt;&lt;HKDevice: 0x303312620&gt;, name:Apple Watch, ma...</td>\n",
       "      <td>ActiveEnergyBurned</td>\n",
       "      <td>Cal</td>\n",
       "      <td>2024-06-12 11:59:04 -0700</td>\n",
       "      <td>2024-06-12 11:48:26 -0700</td>\n",
       "      <td>2024-06-12 11:58:17 -0700</td>\n",
       "      <td>1.090</td>\n",
       "    </tr>\n",
       "    <tr>\n",
       "      <th>1453642</th>\n",
       "      <td>Tyler’s Apple Watch</td>\n",
       "      <td>10.5</td>\n",
       "      <td>&lt;&lt;HKDevice: 0x303312620&gt;, name:Apple Watch, ma...</td>\n",
       "      <td>ActiveEnergyBurned</td>\n",
       "      <td>Cal</td>\n",
       "      <td>2024-06-12 12:09:21 -0700</td>\n",
       "      <td>2024-06-12 11:59:18 -0700</td>\n",
       "      <td>2024-06-12 12:09:10 -0700</td>\n",
       "      <td>4.267</td>\n",
       "    </tr>\n",
       "  </tbody>\n",
       "</table>\n",
       "</div>"
      ],
      "text/plain": [
       "                  sourceName sourceVersion  \\\n",
       "1453638  Tyler’s Apple Watch          10.5   \n",
       "1453639  Tyler’s Apple Watch          10.5   \n",
       "1453640  Tyler’s Apple Watch          10.5   \n",
       "1453641  Tyler’s Apple Watch          10.5   \n",
       "1453642  Tyler’s Apple Watch          10.5   \n",
       "\n",
       "                                                    device  \\\n",
       "1453638  <<HKDevice: 0x303312620>, name:Apple Watch, ma...   \n",
       "1453639  <<HKDevice: 0x303312620>, name:Apple Watch, ma...   \n",
       "1453640  <<HKDevice: 0x303312620>, name:Apple Watch, ma...   \n",
       "1453641  <<HKDevice: 0x303312620>, name:Apple Watch, ma...   \n",
       "1453642  <<HKDevice: 0x303312620>, name:Apple Watch, ma...   \n",
       "\n",
       "                       type unit               creationDate  \\\n",
       "1453638  ActiveEnergyBurned  Cal  2024-06-12 11:35:26 -0700   \n",
       "1453639  ActiveEnergyBurned  Cal  2024-06-12 11:47:09 -0700   \n",
       "1453640  ActiveEnergyBurned  Cal  2024-06-12 11:48:31 -0700   \n",
       "1453641  ActiveEnergyBurned  Cal  2024-06-12 11:59:04 -0700   \n",
       "1453642  ActiveEnergyBurned  Cal  2024-06-12 12:09:21 -0700   \n",
       "\n",
       "                         startDate                    endDate  value  \n",
       "1453638  2024-06-12 11:25:00 -0700  2024-06-12 11:34:51 -0700  2.430  \n",
       "1453639  2024-06-12 11:35:01 -0700  2024-06-12 11:35:11 -0700  0.079  \n",
       "1453640  2024-06-12 11:38:04 -0700  2024-06-12 11:47:35 -0700  1.322  \n",
       "1453641  2024-06-12 11:48:26 -0700  2024-06-12 11:58:17 -0700  1.090  \n",
       "1453642  2024-06-12 11:59:18 -0700  2024-06-12 12:09:10 -0700  4.267  "
      ]
     },
     "execution_count": 4,
     "metadata": {},
     "output_type": "execute_result"
    }
   ],
   "source": [
    "calories.tail()"
   ]
  },
  {
   "cell_type": "code",
   "execution_count": 5,
   "metadata": {},
   "outputs": [
    {
     "data": {
      "text/html": [
       "<div>\n",
       "<style scoped>\n",
       "    .dataframe tbody tr th:only-of-type {\n",
       "        vertical-align: middle;\n",
       "    }\n",
       "\n",
       "    .dataframe tbody tr th {\n",
       "        vertical-align: top;\n",
       "    }\n",
       "\n",
       "    .dataframe thead th {\n",
       "        text-align: right;\n",
       "    }\n",
       "</style>\n",
       "<table border=\"1\" class=\"dataframe\">\n",
       "  <thead>\n",
       "    <tr style=\"text-align: right;\">\n",
       "      <th></th>\n",
       "      <th>value</th>\n",
       "    </tr>\n",
       "  </thead>\n",
       "  <tbody>\n",
       "    <tr>\n",
       "      <th>count</th>\n",
       "      <td>1.453643e+06</td>\n",
       "    </tr>\n",
       "    <tr>\n",
       "      <th>mean</th>\n",
       "      <td>9.302784e-01</td>\n",
       "    </tr>\n",
       "    <tr>\n",
       "      <th>std</th>\n",
       "      <td>5.062170e+00</td>\n",
       "    </tr>\n",
       "    <tr>\n",
       "      <th>min</th>\n",
       "      <td>2.000000e-03</td>\n",
       "    </tr>\n",
       "    <tr>\n",
       "      <th>25%</th>\n",
       "      <td>1.680000e-01</td>\n",
       "    </tr>\n",
       "    <tr>\n",
       "      <th>50%</th>\n",
       "      <td>3.170000e-01</td>\n",
       "    </tr>\n",
       "    <tr>\n",
       "      <th>75%</th>\n",
       "      <td>4.800000e-01</td>\n",
       "    </tr>\n",
       "    <tr>\n",
       "      <th>max</th>\n",
       "      <td>1.431340e+02</td>\n",
       "    </tr>\n",
       "  </tbody>\n",
       "</table>\n",
       "</div>"
      ],
      "text/plain": [
       "              value\n",
       "count  1.453643e+06\n",
       "mean   9.302784e-01\n",
       "std    5.062170e+00\n",
       "min    2.000000e-03\n",
       "25%    1.680000e-01\n",
       "50%    3.170000e-01\n",
       "75%    4.800000e-01\n",
       "max    1.431340e+02"
      ]
     },
     "execution_count": 5,
     "metadata": {},
     "output_type": "execute_result"
    }
   ],
   "source": [
    "calories.describe()"
   ]
  },
  {
   "cell_type": "code",
   "execution_count": 6,
   "metadata": {},
   "outputs": [
    {
     "data": {
      "text/plain": [
       "1352292.6919999996"
      ]
     },
     "execution_count": 6,
     "metadata": {},
     "output_type": "execute_result"
    }
   ],
   "source": [
    "# number of calories all time\n",
    "calories.value.sum()"
   ]
  }
 ],
 "metadata": {
  "kernelspec": {
   "display_name": "Python 3",
   "language": "python",
   "name": "python3"
  },
  "language_info": {
   "codemirror_mode": {
    "name": "ipython",
    "version": 3
   },
   "file_extension": ".py",
   "mimetype": "text/x-python",
   "name": "python",
   "nbconvert_exporter": "python",
   "pygments_lexer": "ipython3",
   "version": "3.10.11"
  }
 },
 "nbformat": 4,
 "nbformat_minor": 2
}
