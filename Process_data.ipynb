{
 "cells": [
  {
   "cell_type": "markdown",
   "metadata": {},
   "source": [
    "# Process the Health Data and Blood Sugar Data"
   ]
  },
  {
   "cell_type": "markdown",
   "metadata": {},
   "source": [
    "## Extract Apple Health Data and Export to CSVs\n",
    "* Command Line Tool to Process apple health's export.xml file \n",
    "* Create multiple CSV files for each data type. \n",
    "* Original Source: https://github.com/tdda/applehealthdata\n",
    "### Setup and Usage\n",
    "* Export your data from Apple Health App on your phone. \n",
    "* Unzip export.zip into the DATA directory.\n",
    "* Inside your directory there should be a directory and file here: /DATA/export/apple_health_export/export.xml\n",
    "* Run the following command"
   ]
  },
  {
   "cell_type": "code",
   "execution_count": null,
   "metadata": {},
   "outputs": [],
   "source": [
    "%run -i apple-health-data-parser.py DATA/export/apple_health_export/export.xml"
   ]
  },
  {
   "cell_type": "markdown",
   "metadata": {},
   "source": [
    "## Process Active Calorie Data"
   ]
  },
  {
   "cell_type": "code",
   "execution_count": 1,
   "metadata": {},
   "outputs": [],
   "source": [
    "import numpy as np\n",
    "import pandas as pd\n",
    "import matplotlib.pyplot as plt\n",
    "from datetime import datetime"
   ]
  },
  {
   "cell_type": "code",
   "execution_count": 53,
   "metadata": {},
   "outputs": [
    {
     "name": "stdout",
     "output_type": "stream",
     "text": [
      "Units are Cal\n"
     ]
    }
   ],
   "source": [
    "calories = pd.read_csv(r'DATA\\export\\apple_health_export\\ActiveEnergyBurned.csv')\n",
    "calories = calories[calories['sourceName'] == \"Tyler’s Apple\\xa0Watch\"]\n",
    "print(f\"Units are {calories['unit'][0]}\")"
   ]
  },
  {
   "cell_type": "markdown",
   "metadata": {},
   "source": [
    "Trim the data to include only the relevant date range"
   ]
  },
  {
   "cell_type": "code",
   "execution_count": 58,
   "metadata": {},
   "outputs": [
    {
     "data": {
      "text/html": [
       "<div>\n",
       "<style scoped>\n",
       "    .dataframe tbody tr th:only-of-type {\n",
       "        vertical-align: middle;\n",
       "    }\n",
       "\n",
       "    .dataframe tbody tr th {\n",
       "        vertical-align: top;\n",
       "    }\n",
       "\n",
       "    .dataframe thead th {\n",
       "        text-align: right;\n",
       "    }\n",
       "</style>\n",
       "<table border=\"1\" class=\"dataframe\">\n",
       "  <thead>\n",
       "    <tr style=\"text-align: right;\">\n",
       "      <th></th>\n",
       "      <th>start</th>\n",
       "      <th>end</th>\n",
       "      <th>value</th>\n",
       "    </tr>\n",
       "  </thead>\n",
       "  <tbody>\n",
       "    <tr>\n",
       "      <th>0</th>\n",
       "      <td>2024-05-12 09:30:42-07:00</td>\n",
       "      <td>2024-05-12 09:40:46-07:00</td>\n",
       "      <td>5.166</td>\n",
       "    </tr>\n",
       "    <tr>\n",
       "      <th>1</th>\n",
       "      <td>2024-05-12 09:40:46-07:00</td>\n",
       "      <td>2024-05-12 09:41:27-07:00</td>\n",
       "      <td>0.280</td>\n",
       "    </tr>\n",
       "    <tr>\n",
       "      <th>2</th>\n",
       "      <td>2024-05-12 09:41:27-07:00</td>\n",
       "      <td>2024-05-12 09:51:28-07:00</td>\n",
       "      <td>2.852</td>\n",
       "    </tr>\n",
       "    <tr>\n",
       "      <th>3</th>\n",
       "      <td>2024-05-12 09:51:28-07:00</td>\n",
       "      <td>2024-05-12 09:52:50-07:00</td>\n",
       "      <td>1.184</td>\n",
       "    </tr>\n",
       "    <tr>\n",
       "      <th>4</th>\n",
       "      <td>2024-05-12 09:52:50-07:00</td>\n",
       "      <td>2024-05-12 10:02:41-07:00</td>\n",
       "      <td>5.669</td>\n",
       "    </tr>\n",
       "    <tr>\n",
       "      <th>...</th>\n",
       "      <td>...</td>\n",
       "      <td>...</td>\n",
       "      <td>...</td>\n",
       "    </tr>\n",
       "    <tr>\n",
       "      <th>20394</th>\n",
       "      <td>2024-05-23 19:48:29-07:00</td>\n",
       "      <td>2024-05-23 19:58:00-07:00</td>\n",
       "      <td>2.940</td>\n",
       "    </tr>\n",
       "    <tr>\n",
       "      <th>20395</th>\n",
       "      <td>2024-05-23 19:58:30-07:00</td>\n",
       "      <td>2024-05-23 20:08:32-07:00</td>\n",
       "      <td>8.752</td>\n",
       "    </tr>\n",
       "    <tr>\n",
       "      <th>20396</th>\n",
       "      <td>2024-05-23 20:08:32-07:00</td>\n",
       "      <td>2024-05-23 20:17:32-07:00</td>\n",
       "      <td>19.751</td>\n",
       "    </tr>\n",
       "    <tr>\n",
       "      <th>20397</th>\n",
       "      <td>2024-05-23 20:19:34-07:00</td>\n",
       "      <td>2024-05-23 20:29:36-07:00</td>\n",
       "      <td>3.069</td>\n",
       "    </tr>\n",
       "    <tr>\n",
       "      <th>20398</th>\n",
       "      <td>2024-05-23 20:29:46-07:00</td>\n",
       "      <td>2024-05-23 20:30:47-07:00</td>\n",
       "      <td>0.780</td>\n",
       "    </tr>\n",
       "  </tbody>\n",
       "</table>\n",
       "<p>20399 rows × 3 columns</p>\n",
       "</div>"
      ],
      "text/plain": [
       "                          start                       end   value\n",
       "0     2024-05-12 09:30:42-07:00 2024-05-12 09:40:46-07:00   5.166\n",
       "1     2024-05-12 09:40:46-07:00 2024-05-12 09:41:27-07:00   0.280\n",
       "2     2024-05-12 09:41:27-07:00 2024-05-12 09:51:28-07:00   2.852\n",
       "3     2024-05-12 09:51:28-07:00 2024-05-12 09:52:50-07:00   1.184\n",
       "4     2024-05-12 09:52:50-07:00 2024-05-12 10:02:41-07:00   5.669\n",
       "...                         ...                       ...     ...\n",
       "20394 2024-05-23 19:48:29-07:00 2024-05-23 19:58:00-07:00   2.940\n",
       "20395 2024-05-23 19:58:30-07:00 2024-05-23 20:08:32-07:00   8.752\n",
       "20396 2024-05-23 20:08:32-07:00 2024-05-23 20:17:32-07:00  19.751\n",
       "20397 2024-05-23 20:19:34-07:00 2024-05-23 20:29:36-07:00   3.069\n",
       "20398 2024-05-23 20:29:46-07:00 2024-05-23 20:30:47-07:00   0.780\n",
       "\n",
       "[20399 rows x 3 columns]"
      ]
     },
     "execution_count": 58,
     "metadata": {},
     "output_type": "execute_result"
    }
   ],
   "source": [
    "cals = calories[calories['startDate'].str.startswith(\"2024-05\")][['startDate', 'endDate', 'value']]\n",
    "cals['start'] = pd.to_datetime(cals['startDate'])\n",
    "cals['end'] = pd.to_datetime(cals['endDate'])\n",
    "cals = cals[(cals['start'] > '2024-05-12') & (cals['start'] < '2024-05-24')][['start', 'end', 'value']].reset_index(drop=True)\n",
    "cals"
   ]
  },
  {
   "cell_type": "code",
   "execution_count": 59,
   "metadata": {},
   "outputs": [
    {
     "data": {
      "text/plain": [
       "count    20399.000000\n",
       "mean         0.126012\n",
       "std          0.093633\n",
       "min          0.000168\n",
       "25%          0.019500\n",
       "50%          0.140667\n",
       "75%          0.197667\n",
       "max          0.393500\n",
       "Name: power, dtype: float64"
      ]
     },
     "execution_count": 59,
     "metadata": {},
     "output_type": "execute_result"
    }
   ],
   "source": [
    "cals['power'] = cals['value'] / (cals['end'] - cals['start']).dt.total_seconds()\n",
    "cals['day'] = cals['start'].dt.day\n",
    "cals['power'].describe()"
   ]
  },
  {
   "cell_type": "code",
   "execution_count": 91,
   "metadata": {},
   "outputs": [
    {
     "data": {
      "image/png": "[encoded data removed]",
      "text/plain": [
       "<Figure size 640x480 with 1 Axes>"
      ]
     },
     "metadata": {},
     "output_type": "display_data"
    }
   ],
   "source": [
    "WINDOW_SIZE = 300\n",
    "cals['elapsed_start'] = (cals['start'] - cals['start'].min()).dt.total_seconds()\n",
    "cals['elapsed_end'] = (cals['end'] - cals['start'].min()).dt.total_seconds()\n",
    "rolling_avg = []\n",
    "for i in range(0, int(cals['elapsed_end'].max()), WINDOW_SIZE):\n",
    "    within_window = cals[(cals['elapsed_start'] >= i) & (cals['elapsed_end'] < i + WINDOW_SIZE)]['value'].sum()\n",
    "    \n",
    "    start_mask = (cals['elapsed_start'] < i) & (cals['elapsed_end'] >= i)\n",
    "    within_start = (cals[start_mask]['power'] * np.minimum((cals[start_mask]['elapsed_end'] - i), WINDOW_SIZE)).sum()\n",
    "\n",
    "    end_mask = (cals['elapsed_start'] < i + WINDOW_SIZE) & (cals['elapsed_end'] >= i + WINDOW_SIZE)\n",
    "    within_end = (cals[end_mask]['power'] * np.minimum(i + WINDOW_SIZE - 1 - cals[end_mask]['elapsed_start'], WINDOW_SIZE)).sum()\n",
    "\n",
    "    entire_mask = (cals['elapsed_start'] < i) & (cals['elapsed_end'] >= i + WINDOW_SIZE)\n",
    "    within_entire = (cals[entire_mask]['power'] * WINDOW_SIZE).sum()\n",
    "    \n",
    "    rolling_avg.append((within_window + within_start + within_end - within_entire))\n",
    "\n",
    "plt.plot(rolling_avg[:50])\n",
    "plt.show()"
   ]
  },
  {
   "cell_type": "code",
   "execution_count": 93,
   "metadata": {},
   "outputs": [
    {
     "data": {
      "image/png": "[encoded data removed]",
      "text/plain": [
       "<Figure size 640x480 with 1 Axes>"
      ]
     },
     "metadata": {},
     "output_type": "display_data"
    }
   ],
   "source": [
    "cal_df = pd.DataFrame(rolling_avg, columns=['calories'])\n",
    "cal_df['datetime'] = pd.date_range(start=cals['start'].min(), periods=len(rolling_avg), freq=f'{WINDOW_SIZE}s')\n",
    "# plot by day\n",
    "cal_df['day'] = cal_df['datetime'].dt.date\n",
    "cal_df['day'].unique()\n",
    "cal_df.groupby('day')['calories'].sum().plot(kind='bar')\n",
    "plt.show()"
   ]
  },
  {
   "cell_type": "code",
   "execution_count": 103,
   "metadata": {},
   "outputs": [
    {
     "data": {
      "image/png": "[encoded data removed]",
      "text/plain": [
       "<Figure size 640x480 with 1 Axes>"
      ]
     },
     "metadata": {},
     "output_type": "display_data"
    }
   ],
   "source": [
    "# plot the calorie burn for a specific day\n",
    "days_list = cal_df['day'].unique()\n",
    "mask = cal_df['day'] == days_list[9]\n",
    "plt.plot(cal_df[mask]['datetime'], cal_df[mask]['calories'])\n",
    "plt.show()"
   ]
  },
  {
   "cell_type": "markdown",
   "metadata": {},
   "source": [
    "## Test Visualization Using Steps"
   ]
  },
  {
   "cell_type": "code",
   "execution_count": 3,
   "metadata": {},
   "outputs": [],
   "source": [
    "from datetime import datetime\n",
    "import pytz"
   ]
  },
  {
   "cell_type": "code",
   "execution_count": 4,
   "metadata": {},
   "outputs": [
    {
     "data": {
      "text/html": [
       "<div>\n",
       "<style scoped>\n",
       "    .dataframe tbody tr th:only-of-type {\n",
       "        vertical-align: middle;\n",
       "    }\n",
       "\n",
       "    .dataframe tbody tr th {\n",
       "        vertical-align: top;\n",
       "    }\n",
       "\n",
       "    .dataframe thead th {\n",
       "        text-align: right;\n",
       "    }\n",
       "</style>\n",
       "<table border=\"1\" class=\"dataframe\">\n",
       "  <thead>\n",
       "    <tr style=\"text-align: right;\">\n",
       "      <th></th>\n",
       "      <th>sourceName</th>\n",
       "      <th>sourceVersion</th>\n",
       "      <th>device</th>\n",
       "      <th>type</th>\n",
       "      <th>unit</th>\n",
       "      <th>creationDate</th>\n",
       "      <th>startDate</th>\n",
       "      <th>endDate</th>\n",
       "      <th>value</th>\n",
       "    </tr>\n",
       "  </thead>\n",
       "  <tbody>\n",
       "    <tr>\n",
       "      <th>250709</th>\n",
       "      <td>Tyler’s Apple Watch</td>\n",
       "      <td>10.5</td>\n",
       "      <td>&lt;&lt;HKDevice: 0x3033134d0&gt;, name:Apple Watch, ma...</td>\n",
       "      <td>StepCount</td>\n",
       "      <td>count</td>\n",
       "      <td>2024-06-12 09:49:33 -0700</td>\n",
       "      <td>2024-06-12 09:38:50 -0700</td>\n",
       "      <td>2024-06-12 09:38:55 -0700</td>\n",
       "      <td>19</td>\n",
       "    </tr>\n",
       "    <tr>\n",
       "      <th>250710</th>\n",
       "      <td>Tyler’s Apple Watch</td>\n",
       "      <td>10.5</td>\n",
       "      <td>&lt;&lt;HKDevice: 0x3033134d0&gt;, name:Apple Watch, ma...</td>\n",
       "      <td>StepCount</td>\n",
       "      <td>count</td>\n",
       "      <td>2024-06-12 10:15:04 -0700</td>\n",
       "      <td>2024-06-12 10:03:38 -0700</td>\n",
       "      <td>2024-06-12 10:03:48 -0700</td>\n",
       "      <td>20</td>\n",
       "    </tr>\n",
       "    <tr>\n",
       "      <th>250711</th>\n",
       "      <td>Tyler’s Apple Watch</td>\n",
       "      <td>10.5</td>\n",
       "      <td>&lt;&lt;HKDevice: 0x3033134d0&gt;, name:Apple Watch, ma...</td>\n",
       "      <td>StepCount</td>\n",
       "      <td>count</td>\n",
       "      <td>2024-06-12 10:24:50 -0700</td>\n",
       "      <td>2024-06-12 10:13:47 -0700</td>\n",
       "      <td>2024-06-12 10:14:50 -0700</td>\n",
       "      <td>18</td>\n",
       "    </tr>\n",
       "    <tr>\n",
       "      <th>250712</th>\n",
       "      <td>Tyler’s Apple Watch</td>\n",
       "      <td>10.5</td>\n",
       "      <td>&lt;&lt;HKDevice: 0x3033134d0&gt;, name:Apple Watch, ma...</td>\n",
       "      <td>StepCount</td>\n",
       "      <td>count</td>\n",
       "      <td>2024-06-12 11:35:26 -0700</td>\n",
       "      <td>2024-06-12 11:24:39 -0700</td>\n",
       "      <td>2024-06-12 11:25:53 -0700</td>\n",
       "      <td>37</td>\n",
       "    </tr>\n",
       "    <tr>\n",
       "      <th>250713</th>\n",
       "      <td>Tyler’s Apple Watch</td>\n",
       "      <td>10.5</td>\n",
       "      <td>&lt;&lt;HKDevice: 0x3033134d0&gt;, name:Apple Watch, ma...</td>\n",
       "      <td>StepCount</td>\n",
       "      <td>count</td>\n",
       "      <td>2024-06-12 12:13:37 -0700</td>\n",
       "      <td>2024-06-12 12:02:35 -0700</td>\n",
       "      <td>2024-06-12 12:10:41 -0700</td>\n",
       "      <td>139</td>\n",
       "    </tr>\n",
       "  </tbody>\n",
       "</table>\n",
       "</div>"
      ],
      "text/plain": [
       "                 sourceName sourceVersion  \\\n",
       "250709  Tyler’s Apple Watch          10.5   \n",
       "250710  Tyler’s Apple Watch          10.5   \n",
       "250711  Tyler’s Apple Watch          10.5   \n",
       "250712  Tyler’s Apple Watch          10.5   \n",
       "250713  Tyler’s Apple Watch          10.5   \n",
       "\n",
       "                                                   device       type   unit  \\\n",
       "250709  <<HKDevice: 0x3033134d0>, name:Apple Watch, ma...  StepCount  count   \n",
       "250710  <<HKDevice: 0x3033134d0>, name:Apple Watch, ma...  StepCount  count   \n",
       "250711  <<HKDevice: 0x3033134d0>, name:Apple Watch, ma...  StepCount  count   \n",
       "250712  <<HKDevice: 0x3033134d0>, name:Apple Watch, ma...  StepCount  count   \n",
       "250713  <<HKDevice: 0x3033134d0>, name:Apple Watch, ma...  StepCount  count   \n",
       "\n",
       "                     creationDate                  startDate  \\\n",
       "250709  2024-06-12 09:49:33 -0700  2024-06-12 09:38:50 -0700   \n",
       "250710  2024-06-12 10:15:04 -0700  2024-06-12 10:03:38 -0700   \n",
       "250711  2024-06-12 10:24:50 -0700  2024-06-12 10:13:47 -0700   \n",
       "250712  2024-06-12 11:35:26 -0700  2024-06-12 11:24:39 -0700   \n",
       "250713  2024-06-12 12:13:37 -0700  2024-06-12 12:02:35 -0700   \n",
       "\n",
       "                          endDate  value  \n",
       "250709  2024-06-12 09:38:55 -0700     19  \n",
       "250710  2024-06-12 10:03:48 -0700     20  \n",
       "250711  2024-06-12 10:14:50 -0700     18  \n",
       "250712  2024-06-12 11:25:53 -0700     37  \n",
       "250713  2024-06-12 12:10:41 -0700    139  "
      ]
     },
     "execution_count": 4,
     "metadata": {},
     "output_type": "execute_result"
    }
   ],
   "source": [
    "steps = pd.read_csv(r'DATA\\export\\apple_health_export/StepCount.csv')\n",
    "steps.tail()"
   ]
  },
  {
   "cell_type": "code",
   "execution_count": 27,
   "metadata": {},
   "outputs": [],
   "source": [
    "# convert_tz = lambda x: x.to_pydatetime().replace(tzinfo=pytz.utc).astimezone(pytz.timezone('America/Vancouver'))\n",
    "convert_tz = lambda x: x\n",
    "get_year = lambda x: (dt := convert_tz(x)).year\n",
    "get_month = lambda x: (dt := convert_tz(x)) and f'{dt.year}-{dt.month:02}'\n",
    "get_date = lambda x: (dt := convert_tz(x)) and f'{dt.year}-{dt.month:02}-{dt.day:02}'\n",
    "get_day = lambda x: convert_tz(x).day\n",
    "get_hour = lambda x: convert_tz(x).hour\n",
    "get_day_of_week = lambda x: convert_tz(x).weekday()\n",
    "\n",
    "steps['startDate'] = pd.to_datetime(steps['startDate'])\n",
    "steps['year'] = steps['startDate'].map(get_year)\n",
    "steps['month'] = steps['startDate'].map(get_month)\n",
    "steps['date'] = steps['startDate'].map(get_date)\n",
    "steps['day'] = steps['startDate'].map(get_day)\n",
    "steps['hour'] = steps['startDate'].map(get_hour)\n",
    "steps['dow'] = steps['startDate'].map(get_day_of_week)"
   ]
  },
  {
   "cell_type": "code",
   "execution_count": 28,
   "metadata": {},
   "outputs": [
    {
     "data": {
      "text/html": [
       "<div>\n",
       "<style scoped>\n",
       "    .dataframe tbody tr th:only-of-type {\n",
       "        vertical-align: middle;\n",
       "    }\n",
       "\n",
       "    .dataframe tbody tr th {\n",
       "        vertical-align: top;\n",
       "    }\n",
       "\n",
       "    .dataframe thead th {\n",
       "        text-align: right;\n",
       "    }\n",
       "</style>\n",
       "<table border=\"1\" class=\"dataframe\">\n",
       "  <thead>\n",
       "    <tr style=\"text-align: right;\">\n",
       "      <th></th>\n",
       "      <th>sourceName</th>\n",
       "      <th>sourceVersion</th>\n",
       "      <th>device</th>\n",
       "      <th>type</th>\n",
       "      <th>unit</th>\n",
       "      <th>creationDate</th>\n",
       "      <th>startDate</th>\n",
       "      <th>endDate</th>\n",
       "      <th>value</th>\n",
       "      <th>year</th>\n",
       "      <th>month</th>\n",
       "      <th>date</th>\n",
       "      <th>day</th>\n",
       "      <th>hour</th>\n",
       "      <th>dow</th>\n",
       "    </tr>\n",
       "  </thead>\n",
       "  <tbody>\n",
       "    <tr>\n",
       "      <th>250709</th>\n",
       "      <td>Tyler’s Apple Watch</td>\n",
       "      <td>10.5</td>\n",
       "      <td>&lt;&lt;HKDevice: 0x3033134d0&gt;, name:Apple Watch, ma...</td>\n",
       "      <td>StepCount</td>\n",
       "      <td>count</td>\n",
       "      <td>2024-06-12 09:49:33 -0700</td>\n",
       "      <td>2024-06-12 09:38:50-07:00</td>\n",
       "      <td>2024-06-12 09:38:55 -0700</td>\n",
       "      <td>19</td>\n",
       "      <td>2024</td>\n",
       "      <td>2024-06</td>\n",
       "      <td>2024-06-12</td>\n",
       "      <td>12</td>\n",
       "      <td>9</td>\n",
       "      <td>2</td>\n",
       "    </tr>\n",
       "    <tr>\n",
       "      <th>250710</th>\n",
       "      <td>Tyler’s Apple Watch</td>\n",
       "      <td>10.5</td>\n",
       "      <td>&lt;&lt;HKDevice: 0x3033134d0&gt;, name:Apple Watch, ma...</td>\n",
       "      <td>StepCount</td>\n",
       "      <td>count</td>\n",
       "      <td>2024-06-12 10:15:04 -0700</td>\n",
       "      <td>2024-06-12 10:03:38-07:00</td>\n",
       "      <td>2024-06-12 10:03:48 -0700</td>\n",
       "      <td>20</td>\n",
       "      <td>2024</td>\n",
       "      <td>2024-06</td>\n",
       "      <td>2024-06-12</td>\n",
       "      <td>12</td>\n",
       "      <td>10</td>\n",
       "      <td>2</td>\n",
       "    </tr>\n",
       "    <tr>\n",
       "      <th>250711</th>\n",
       "      <td>Tyler’s Apple Watch</td>\n",
       "      <td>10.5</td>\n",
       "      <td>&lt;&lt;HKDevice: 0x3033134d0&gt;, name:Apple Watch, ma...</td>\n",
       "      <td>StepCount</td>\n",
       "      <td>count</td>\n",
       "      <td>2024-06-12 10:24:50 -0700</td>\n",
       "      <td>2024-06-12 10:13:47-07:00</td>\n",
       "      <td>2024-06-12 10:14:50 -0700</td>\n",
       "      <td>18</td>\n",
       "      <td>2024</td>\n",
       "      <td>2024-06</td>\n",
       "      <td>2024-06-12</td>\n",
       "      <td>12</td>\n",
       "      <td>10</td>\n",
       "      <td>2</td>\n",
       "    </tr>\n",
       "    <tr>\n",
       "      <th>250712</th>\n",
       "      <td>Tyler’s Apple Watch</td>\n",
       "      <td>10.5</td>\n",
       "      <td>&lt;&lt;HKDevice: 0x3033134d0&gt;, name:Apple Watch, ma...</td>\n",
       "      <td>StepCount</td>\n",
       "      <td>count</td>\n",
       "      <td>2024-06-12 11:35:26 -0700</td>\n",
       "      <td>2024-06-12 11:24:39-07:00</td>\n",
       "      <td>2024-06-12 11:25:53 -0700</td>\n",
       "      <td>37</td>\n",
       "      <td>2024</td>\n",
       "      <td>2024-06</td>\n",
       "      <td>2024-06-12</td>\n",
       "      <td>12</td>\n",
       "      <td>11</td>\n",
       "      <td>2</td>\n",
       "    </tr>\n",
       "    <tr>\n",
       "      <th>250713</th>\n",
       "      <td>Tyler’s Apple Watch</td>\n",
       "      <td>10.5</td>\n",
       "      <td>&lt;&lt;HKDevice: 0x3033134d0&gt;, name:Apple Watch, ma...</td>\n",
       "      <td>StepCount</td>\n",
       "      <td>count</td>\n",
       "      <td>2024-06-12 12:13:37 -0700</td>\n",
       "      <td>2024-06-12 12:02:35-07:00</td>\n",
       "      <td>2024-06-12 12:10:41 -0700</td>\n",
       "      <td>139</td>\n",
       "      <td>2024</td>\n",
       "      <td>2024-06</td>\n",
       "      <td>2024-06-12</td>\n",
       "      <td>12</td>\n",
       "      <td>12</td>\n",
       "      <td>2</td>\n",
       "    </tr>\n",
       "  </tbody>\n",
       "</table>\n",
       "</div>"
      ],
      "text/plain": [
       "                 sourceName sourceVersion  \\\n",
       "250709  Tyler’s Apple Watch          10.5   \n",
       "250710  Tyler’s Apple Watch          10.5   \n",
       "250711  Tyler’s Apple Watch          10.5   \n",
       "250712  Tyler’s Apple Watch          10.5   \n",
       "250713  Tyler’s Apple Watch          10.5   \n",
       "\n",
       "                                                   device       type   unit  \\\n",
       "250709  <<HKDevice: 0x3033134d0>, name:Apple Watch, ma...  StepCount  count   \n",
       "250710  <<HKDevice: 0x3033134d0>, name:Apple Watch, ma...  StepCount  count   \n",
       "250711  <<HKDevice: 0x3033134d0>, name:Apple Watch, ma...  StepCount  count   \n",
       "250712  <<HKDevice: 0x3033134d0>, name:Apple Watch, ma...  StepCount  count   \n",
       "250713  <<HKDevice: 0x3033134d0>, name:Apple Watch, ma...  StepCount  count   \n",
       "\n",
       "                     creationDate                 startDate  \\\n",
       "250709  2024-06-12 09:49:33 -0700 2024-06-12 09:38:50-07:00   \n",
       "250710  2024-06-12 10:15:04 -0700 2024-06-12 10:03:38-07:00   \n",
       "250711  2024-06-12 10:24:50 -0700 2024-06-12 10:13:47-07:00   \n",
       "250712  2024-06-12 11:35:26 -0700 2024-06-12 11:24:39-07:00   \n",
       "250713  2024-06-12 12:13:37 -0700 2024-06-12 12:02:35-07:00   \n",
       "\n",
       "                          endDate  value  year    month        date  day  \\\n",
       "250709  2024-06-12 09:38:55 -0700     19  2024  2024-06  2024-06-12   12   \n",
       "250710  2024-06-12 10:03:48 -0700     20  2024  2024-06  2024-06-12   12   \n",
       "250711  2024-06-12 10:14:50 -0700     18  2024  2024-06  2024-06-12   12   \n",
       "250712  2024-06-12 11:25:53 -0700     37  2024  2024-06  2024-06-12   12   \n",
       "250713  2024-06-12 12:10:41 -0700    139  2024  2024-06  2024-06-12   12   \n",
       "\n",
       "        hour  dow  \n",
       "250709     9    2  \n",
       "250710    10    2  \n",
       "250711    10    2  \n",
       "250712    11    2  \n",
       "250713    12    2  "
      ]
     },
     "execution_count": 28,
     "metadata": {},
     "output_type": "execute_result"
    }
   ],
   "source": [
    "steps = steps[steps.sourceName == 'Tyler’s Apple\\xa0Watch']\n",
    "steps.tail()"
   ]
  },
  {
   "cell_type": "code",
   "execution_count": 29,
   "metadata": {},
   "outputs": [
    {
     "data": {
      "text/html": [
       "<div>\n",
       "<style scoped>\n",
       "    .dataframe tbody tr th:only-of-type {\n",
       "        vertical-align: middle;\n",
       "    }\n",
       "\n",
       "    .dataframe tbody tr th {\n",
       "        vertical-align: top;\n",
       "    }\n",
       "\n",
       "    .dataframe thead th {\n",
       "        text-align: right;\n",
       "    }\n",
       "</style>\n",
       "<table border=\"1\" class=\"dataframe\">\n",
       "  <thead>\n",
       "    <tr style=\"text-align: right;\">\n",
       "      <th></th>\n",
       "      <th>date</th>\n",
       "      <th>Steps</th>\n",
       "    </tr>\n",
       "  </thead>\n",
       "  <tbody>\n",
       "    <tr>\n",
       "      <th>1443</th>\n",
       "      <td>2024-06-08</td>\n",
       "      <td>18868</td>\n",
       "    </tr>\n",
       "    <tr>\n",
       "      <th>1444</th>\n",
       "      <td>2024-06-09</td>\n",
       "      <td>22955</td>\n",
       "    </tr>\n",
       "    <tr>\n",
       "      <th>1445</th>\n",
       "      <td>2024-06-10</td>\n",
       "      <td>7505</td>\n",
       "    </tr>\n",
       "    <tr>\n",
       "      <th>1446</th>\n",
       "      <td>2024-06-11</td>\n",
       "      <td>13286</td>\n",
       "    </tr>\n",
       "    <tr>\n",
       "      <th>1447</th>\n",
       "      <td>2024-06-12</td>\n",
       "      <td>299</td>\n",
       "    </tr>\n",
       "  </tbody>\n",
       "</table>\n",
       "</div>"
      ],
      "text/plain": [
       "            date  Steps\n",
       "1443  2024-06-08  18868\n",
       "1444  2024-06-09  22955\n",
       "1445  2024-06-10   7505\n",
       "1446  2024-06-11  13286\n",
       "1447  2024-06-12    299"
      ]
     },
     "execution_count": 29,
     "metadata": {},
     "output_type": "execute_result"
    }
   ],
   "source": [
    "steps_by_date = steps.groupby(['date'])['value'].sum().reset_index(name='Steps')\n",
    "steps_by_date.tail()"
   ]
  },
  {
   "cell_type": "code",
   "execution_count": 30,
   "metadata": {},
   "outputs": [
    {
     "data": {
      "text/html": [
       "<div>\n",
       "<style scoped>\n",
       "    .dataframe tbody tr th:only-of-type {\n",
       "        vertical-align: middle;\n",
       "    }\n",
       "\n",
       "    .dataframe tbody tr th {\n",
       "        vertical-align: top;\n",
       "    }\n",
       "\n",
       "    .dataframe thead th {\n",
       "        text-align: right;\n",
       "    }\n",
       "</style>\n",
       "<table border=\"1\" class=\"dataframe\">\n",
       "  <thead>\n",
       "    <tr style=\"text-align: right;\">\n",
       "      <th></th>\n",
       "      <th>Steps</th>\n",
       "    </tr>\n",
       "  </thead>\n",
       "  <tbody>\n",
       "    <tr>\n",
       "      <th>count</th>\n",
       "      <td>1448.000000</td>\n",
       "    </tr>\n",
       "    <tr>\n",
       "      <th>mean</th>\n",
       "      <td>12238.957873</td>\n",
       "    </tr>\n",
       "    <tr>\n",
       "      <th>std</th>\n",
       "      <td>6358.723010</td>\n",
       "    </tr>\n",
       "    <tr>\n",
       "      <th>min</th>\n",
       "      <td>32.000000</td>\n",
       "    </tr>\n",
       "    <tr>\n",
       "      <th>25%</th>\n",
       "      <td>8042.500000</td>\n",
       "    </tr>\n",
       "    <tr>\n",
       "      <th>50%</th>\n",
       "      <td>11483.000000</td>\n",
       "    </tr>\n",
       "    <tr>\n",
       "      <th>75%</th>\n",
       "      <td>15761.750000</td>\n",
       "    </tr>\n",
       "    <tr>\n",
       "      <th>max</th>\n",
       "      <td>47209.000000</td>\n",
       "    </tr>\n",
       "  </tbody>\n",
       "</table>\n",
       "</div>"
      ],
      "text/plain": [
       "              Steps\n",
       "count   1448.000000\n",
       "mean   12238.957873\n",
       "std     6358.723010\n",
       "min       32.000000\n",
       "25%     8042.500000\n",
       "50%    11483.000000\n",
       "75%    15761.750000\n",
       "max    47209.000000"
      ]
     },
     "execution_count": 30,
     "metadata": {},
     "output_type": "execute_result"
    }
   ],
   "source": [
    "steps_by_date.describe()"
   ]
  },
  {
   "cell_type": "code",
   "execution_count": 31,
   "metadata": {},
   "outputs": [
    {
     "data": {
      "text/plain": [
       "<AxesSubplot: xlabel='hour'>"
      ]
     },
     "execution_count": 31,
     "metadata": {},
     "output_type": "execute_result"
    },
    {
     "data": {
      "image/png": "[encoded data removed]",
      "text/plain": [
       "<Figure size 640x480 with 1 Axes>"
      ]
     },
     "metadata": {},
     "output_type": "display_data"
    }
   ],
   "source": [
    "# plot steps by hour of the day\n",
    "steps_by_hour = steps.groupby(['hour'])['value'].sum().reset_index(name='Steps')\n",
    "steps_by_hour.plot(x='hour', y='Steps', kind='bar')"
   ]
  },
  {
   "cell_type": "code",
   "execution_count": 34,
   "metadata": {},
   "outputs": [
    {
     "data": {
      "text/plain": [
       "<AxesSubplot: xlabel='dow'>"
      ]
     },
     "execution_count": 34,
     "metadata": {},
     "output_type": "execute_result"
    },
    {
     "data": {
      "image/png": "[encoded data removed]",
      "text/plain": [
       "<Figure size 640x480 with 1 Axes>"
      ]
     },
     "metadata": {},
     "output_type": "display_data"
    }
   ],
   "source": [
    "# plot steps by days of the week\n",
    "steps_by_hour = steps.groupby(['dow'])['value'].sum().reset_index(name='Steps')\n",
    "steps_by_hour.plot(x='dow', y='Steps', kind='bar')"
   ]
  }
 ],
 "metadata": {
  "kernelspec": {
   "display_name": "Python 3",
   "language": "python",
   "name": "python3"
  },
  "language_info": {
   "codemirror_mode": {
    "name": "ipython",
    "version": 3
   },
   "file_extension": ".py",
   "mimetype": "text/x-python",
   "name": "python",
   "nbconvert_exporter": "python",
   "pygments_lexer": "ipython3",
   "version": "3.10.11"
  }
 },
 "nbformat": 4,
 "nbformat_minor": 2
}
